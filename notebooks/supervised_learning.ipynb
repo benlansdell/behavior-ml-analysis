{
 "cells": [
  {
   "cell_type": "markdown",
   "id": "d589d5a8",
   "metadata": {},
   "source": [
    "## Supervised behavior analysis\n",
    "\n",
    "Takes DLC tracks and behavior labels (collected in BORIS), trains ML model to predict behavior. "
   ]
  },
  {
   "cell_type": "code",
   "execution_count": 1,
   "id": "98537fe5",
   "metadata": {},
   "outputs": [],
   "source": [
    "#Imports\n",
    "import os\n",
    "from glob import glob \n",
    "\n",
    "#Don't use the GPU for this code\n",
    "os.environ[\"CUDA_VISIBLE_DEVICES\"] = ''"
   ]
  },
  {
   "cell_type": "markdown",
   "id": "4ffceb2b",
   "metadata": {},
   "source": [
    "Uses the 'behaveml' package to manage the behavior and tracking data. This data is managed in a VideosetDataFrame object. The package also does some postprocessing and creates features useful for ML."
   ]
  },
  {
   "cell_type": "code",
   "execution_count": 3,
   "id": "12815b9d",
   "metadata": {},
   "outputs": [],
   "source": [
    "from behaveml import VideosetDataFrame, clone_metadata\n",
    "from behaveml.io import get_sample_data_paths\n",
    "from behaveml import mars_feature_maker, cnn_probability_feature_maker, interpolate_lowconf_points"
   ]
  },
  {
   "cell_type": "code",
   "execution_count": 4,
   "id": "37d14fa6",
   "metadata": {},
   "outputs": [],
   "source": [
    "tracking_files, boris_files = get_sample_data_paths()"
   ]
  },
  {
   "cell_type": "markdown",
   "id": "1f8868d0",
   "metadata": {},
   "source": [
    "To create the DataFrame object, we provide a list of tracking DLC files, and a list of BORIS behavior label files (ordered so that .boris files match with .dlc track for )"
   ]
  },
  {
   "cell_type": "code",
   "execution_count": 6,
   "id": "f6e1795d",
   "metadata": {},
   "outputs": [],
   "source": [
    "frame_length = None              # (float) length of entire horizontal shot\n",
    "fps = 30                         # (int) frames per second\n",
    "\n",
    "#Metadata is a dictionary that attaches each of the above parameters to the video/behavior annotations\n",
    "metadata = clone_metadata(tracking_files, \n",
    "                          label_files = boris_files, \n",
    "                          fps = fps)\n",
    "\n",
    "dataset = VideosetDataFrame(metadata)"
   ]
  },
  {
   "cell_type": "code",
   "execution_count": 7,
   "id": "5ebb3de2",
   "metadata": {},
   "outputs": [
    {
     "name": "stdout",
     "output_type": "stream",
     "text": [
      "Interpolating low-confidence tracking points\n",
      "processing /home/blansdel/projects/behaveml/behaveml/data/dlc/e3v813a-20210610T120637-121213DLC_dlcrnetms5_pilot_studySep24shuffle1_100000_el_filtered.csv\n",
      "processing /home/blansdel/projects/behaveml/behaveml/data/dlc/e3v813a-20210610T121558-122141DLC_dlcrnetms5_pilot_studySep24shuffle1_100000_el_filtered.csv\n",
      "processing /home/blansdel/projects/behaveml/behaveml/data/dlc/e3v813a-20210610T122332-122642DLC_dlcrnetms5_pilot_studySep24shuffle1_100000_el_filtered.csv\n",
      "processing /home/blansdel/projects/behaveml/behaveml/data/dlc/e3v813a-20210610T122758-123309DLC_dlcrnetms5_pilot_studySep24shuffle1_100000_el_filtered.csv\n",
      "processing /home/blansdel/projects/behaveml/behaveml/data/dlc/e3v813a-20210610T123521-124106DLC_dlcrnetms5_pilot_studySep24shuffle1_100000_el_filtered.csv\n",
      "Calculating MARS features\n",
      "['adult_x_nose', 'adult_x_leftear', 'adult_x_rightear', 'adult_x_neck', 'adult_x_lefthip', 'adult_x_righthip', 'adult_x_tail', 'adult_y_nose', 'adult_y_leftear', 'adult_y_rightear', 'adult_y_neck', 'adult_y_lefthip', 'adult_y_righthip', 'adult_y_tail', 'juvenile_x_nose', 'juvenile_x_leftear', 'juvenile_x_rightear', 'juvenile_x_neck', 'juvenile_x_lefthip', 'juvenile_x_righthip', 'juvenile_x_tail', 'juvenile_y_nose', 'juvenile_y_leftear', 'juvenile_y_rightear', 'juvenile_y_neck', 'juvenile_y_lefthip', 'juvenile_y_righthip', 'juvenile_y_tail', 'centroid_all_adult_speed', 'centroid_head_adult_speed', 'centroid_hips_adult_speed', 'centroid_body_adult_speed', 'centroid_all_juvenile_speed', 'centroid_head_juvenile_speed', 'centroid_hips_juvenile_speed', 'centroid_body_juvenile_speed']\n",
      "Calculating 1D CNN pretrained network features\n",
      "Building baseline 1D CNN model with parameters:\n",
      "dropout_rate: 0.5, learning_rate: 0.0001, layer_channels: (128, 64, 64), conv_size: 5\n"
     ]
    },
    {
     "name": "stderr",
     "output_type": "stream",
     "text": [
      "2022-03-08 12:04:31.222081: I tensorflow/compiler/jit/xla_cpu_device.cc:41] Not creating XLA devices, tf_xla_enable_xla_devices not set\n",
      "2022-03-08 12:04:31.223911: I tensorflow/stream_executor/platform/default/dso_loader.cc:49] Successfully opened dynamic library libcuda.so.1\n",
      "2022-03-08 12:04:31.293855: E tensorflow/stream_executor/cuda/cuda_driver.cc:328] failed call to cuInit: CUDA_ERROR_NO_DEVICE: no CUDA-capable device is detected\n",
      "2022-03-08 12:04:31.293899: I tensorflow/stream_executor/cuda/cuda_diagnostics.cc:169] retrieving CUDA diagnostic information for host: splpdnb02.stjude.sjcrh.local\n",
      "2022-03-08 12:04:31.293907: I tensorflow/stream_executor/cuda/cuda_diagnostics.cc:176] hostname: splpdnb02.stjude.sjcrh.local\n",
      "2022-03-08 12:04:31.294397: I tensorflow/stream_executor/cuda/cuda_diagnostics.cc:200] libcuda reported version is: 495.44.0\n",
      "2022-03-08 12:04:31.294427: I tensorflow/stream_executor/cuda/cuda_diagnostics.cc:204] kernel reported version is: 495.44.0\n",
      "2022-03-08 12:04:31.294434: I tensorflow/stream_executor/cuda/cuda_diagnostics.cc:310] kernel version seems to match DSO: 495.44.0\n",
      "2022-03-08 12:04:31.294943: I tensorflow/core/platform/cpu_feature_guard.cc:142] This TensorFlow binary is optimized with oneAPI Deep Neural Network Library (oneDNN) to use the following CPU instructions in performance-critical operations:  AVX2 FMA\n",
      "To enable them in other operations, rebuild TensorFlow with the appropriate compiler flags.\n",
      "2022-03-08 12:04:31.302052: I tensorflow/compiler/jit/xla_gpu_device.cc:99] Not creating XLA devices, tf_xla_enable_xla_devices not set\n",
      "  0%|                                                                                                                                                                | 0/6 [00:00<?, ?it/s]2022-03-08 12:04:31.808151: I tensorflow/compiler/mlir/mlir_graph_optimization_pass.cc:116] None of the MLIR optimization passes are enabled (registered 2)\n",
      "2022-03-08 12:04:31.814820: I tensorflow/core/platform/profile_utils/cpu_utils.cc:112] CPU Frequency: 2600215000 Hz\n",
      "100%|████████████████████████████████████████████████████████████████████████████████████████████████████████████████████████████████████████████████████████| 6/6 [00:08<00:00,  1.45s/it]\n"
     ]
    },
    {
     "name": "stdout",
     "output_type": "stream",
     "text": [
      "Building baseline 1D CNN model with parameters:\n",
      "dropout_rate: 0.5, learning_rate: 0.0001, layer_channels: (128, 64, 64), conv_size: 5\n"
     ]
    },
    {
     "name": "stderr",
     "output_type": "stream",
     "text": [
      "100%|████████████████████████████████████████████████████████████████████████████████████████████████████████████████████████████████████████████████████████| 6/6 [00:08<00:00,  1.37s/it]\n"
     ]
    },
    {
     "name": "stdout",
     "output_type": "stream",
     "text": [
      "Building baseline 1D CNN model with parameters:\n",
      "dropout_rate: 0.5, learning_rate: 0.0001, layer_channels: (128, 64, 64), conv_size: 5\n"
     ]
    },
    {
     "name": "stderr",
     "output_type": "stream",
     "text": [
      "100%|████████████████████████████████████████████████████████████████████████████████████████████████████████████████████████████████████████████████████████| 6/6 [00:08<00:00,  1.42s/it]\n"
     ]
    },
    {
     "name": "stdout",
     "output_type": "stream",
     "text": [
      "Building baseline 1D CNN model with parameters:\n",
      "dropout_rate: 0.5, learning_rate: 0.0001, layer_channels: (128, 64, 64), conv_size: 5\n"
     ]
    },
    {
     "name": "stderr",
     "output_type": "stream",
     "text": [
      "100%|████████████████████████████████████████████████████████████████████████████████████████████████████████████████████████████████████████████████████████| 6/6 [00:08<00:00,  1.44s/it]\n"
     ]
    },
    {
     "name": "stdout",
     "output_type": "stream",
     "text": [
      "Building baseline 1D CNN model with parameters:\n",
      "dropout_rate: 0.5, learning_rate: 0.0001, layer_channels: (128, 64, 64), conv_size: 5\n"
     ]
    },
    {
     "name": "stderr",
     "output_type": "stream",
     "text": [
      "100%|████████████████████████████████████████████████████████████████████████████████████████████████████████████████████████████████████████████████████████| 6/6 [00:09<00:00,  1.63s/it]\n"
     ]
    },
    {
     "data": {
      "text/plain": [
       "['1dcnn__prob_attack',\n",
       " '1dcnn__prob_investigation',\n",
       " '1dcnn__prob_mount',\n",
       " '1dcnn__prob_other']"
      ]
     },
     "execution_count": 7,
     "metadata": {},
     "output_type": "execute_result"
    }
   ],
   "source": [
    "#Filter out low-confidence DLC tracks and interpolate those points instead\n",
    "print(\"Interpolating low-confidence tracking points\")\n",
    "interpolate_lowconf_points(dataset)\n",
    "\n",
    "#Now create features on this dataset\n",
    "print(\"Calculating MARS features\")\n",
    "dataset.add_features(mars_feature_maker, \n",
    "                     featureset_name = 'MARS', \n",
    "                     add_to_features = True)\n",
    "\n",
    "#Note: by default this keras code will try to use CUDA. \n",
    "print(\"Calculating 1D CNN pretrained network features\")\n",
    "dataset.add_features(cnn_probability_feature_maker, \n",
    "                     featureset_name = '1dcnn', \n",
    "                     add_to_features = True)"
   ]
  },
  {
   "cell_type": "markdown",
   "id": "063752c1",
   "metadata": {},
   "source": [
    "## Supervised learning\n",
    "\n",
    "Sample ML model"
   ]
  },
  {
   "cell_type": "code",
   "execution_count": 8,
   "id": "158da627",
   "metadata": {},
   "outputs": [
    {
     "name": "stdout",
     "output_type": "stream",
     "text": [
      "Fitting ML model with (group) LOO CV\n"
     ]
    },
    {
     "name": "stderr",
     "output_type": "stream",
     "text": [
      "[Parallel(n_jobs=5)]: Using backend LokyBackend with 5 concurrent workers.\n",
      "[Parallel(n_jobs=5)]: Done   2 out of   5 | elapsed:  3.7min remaining:  5.5min\n"
     ]
    },
    {
     "name": "stdout",
     "output_type": "stream",
     "text": [
      "Acc 0.9378347067695468 F1 0.7299145299145299 precision 0.7713769570453634 recall 0.6926820475847152\n"
     ]
    },
    {
     "name": "stderr",
     "output_type": "stream",
     "text": [
      "[Parallel(n_jobs=5)]: Done   5 out of   5 | elapsed:  5.0min finished\n"
     ]
    }
   ],
   "source": [
    "from sklearn.ensemble import RandomForestClassifier\n",
    "from sklearn.linear_model import LogisticRegression\n",
    "from sklearn.neighbors import KNeighborsClassifier\n",
    "from xgboost import XGBClassifier\n",
    "from sklearn.model_selection import cross_val_predict, GroupKFold\n",
    "from sklearn.metrics import accuracy_score, f1_score, precision_score, recall_score\n",
    "from sklearn.pipeline import Pipeline\n",
    "\n",
    "splitter = GroupKFold(n_splits = dataset.n_videos)\n",
    "model = XGBClassifier()\n",
    "\n",
    "print(\"Fitting ML model with (group) LOO CV\")\n",
    "predictions = cross_val_predict(model, \n",
    "                                dataset.features, \n",
    "                                dataset.labels, \n",
    "                                groups = dataset.group, \n",
    "                                cv = splitter,\n",
    "                                verbose = 1,\n",
    "                                n_jobs = 5)\n",
    "\n",
    "#Append these for later use\n",
    "dataset.data['prediction'] = predictions\n",
    "acc = accuracy_score(dataset.labels, predictions)\n",
    "f1 = f1_score(dataset.labels, predictions)\n",
    "pr = precision_score(dataset.labels, predictions)\n",
    "re = recall_score(dataset.labels, predictions)\n",
    "print(\"Acc\", acc, \"F1\", f1, 'precision', pr, 'recall', re)"
   ]
  }
 ],
 "metadata": {
  "kernelspec": {
   "display_name": "Python 3 (ipykernel)",
   "language": "python",
   "name": "python3"
  },
  "language_info": {
   "codemirror_mode": {
    "name": "ipython",
    "version": 3
   },
   "file_extension": ".py",
   "mimetype": "text/x-python",
   "name": "python",
   "nbconvert_exporter": "python",
   "pygments_lexer": "ipython3",
   "version": "3.7.11"
  }
 },
 "nbformat": 4,
 "nbformat_minor": 5
}
