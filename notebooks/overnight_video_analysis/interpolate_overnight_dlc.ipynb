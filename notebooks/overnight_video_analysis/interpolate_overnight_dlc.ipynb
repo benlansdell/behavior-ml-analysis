{
 "cells": [
  {
   "cell_type": "markdown",
   "metadata": {},
   "source": [
    "## Interpolate low confidence tracking points\n",
    "\n",
    "It can be useful to interpolate over points where the confidence in the prediction is low -- this interpolation gives smoother trajectories than the noisy, low-confidence estimates. "
   ]
  },
  {
   "cell_type": "code",
   "execution_count": 1,
   "metadata": {},
   "outputs": [
    {
     "name": "stderr",
     "output_type": "stream",
     "text": [
      "/home/blansdel/anaconda3/envs/DEEPLABCUT/lib/python3.8/site-packages/deeplabcut/__init__.py:78: UserWarning: \n",
      "        As PyTorch is not installed, unsupervised identity learning will not be available.\n",
      "        Please run `pip install torch`, or ignore this warning.\n",
      "        \n",
      "  warnings.warn(\n"
     ]
    }
   ],
   "source": [
    "from glob import glob \n",
    "import os \n",
    "from behaveml import VideosetDataFrame, clone_metadata\n",
    "from behaveml import interpolate_lowconf_points\n",
    "import deeplabcut\n",
    "from tqdm import tqdm"
   ]
  },
  {
   "cell_type": "markdown",
   "metadata": {},
   "source": []
  },
  {
   "cell_type": "markdown",
   "metadata": {},
   "source": [
    "Set paths and parameters"
   ]
  },
  {
   "cell_type": "code",
   "execution_count": 3,
   "metadata": {},
   "outputs": [],
   "source": [
    "\n",
    "#Path to DLC project file\n",
    "path_config_file = '/home/blansdel/projects/behavior/dlc_projects/overnight_videos/Overnight_Videos_813a_816b_combined_iter0/config.yaml'\n",
    "\n",
    "#Path to videos. These videos should have already been processed by DLC \n",
    "base_video_path = '/home/blansdel/ImageAnalysisScratch/AnimalBehaviorCore/Zakharenko/animal-behavior-ml/inference/Overnight\\ Videos/'\n",
    "#base_video_path = '/home/blansdel/ImageAnalysisScratch/AnimalBehaviorCore/Zakharenko/animal-behavior-ml/inference/Overnight\\ Videos\\ LSD/'\n",
    "\n",
    "cameras_to_process = ['e3v813a', 'e3v816b'] #Only process videos from these cameras\n",
    "video_pattern = '**/**/*cropped.mp4'\n",
    "\n",
    "create_video = True #If true, will make new labeled videos with interpolated data\n",
    "\n",
    "shuffle = 1 #DLC model shuffle. Often 1\n",
    "track_method = 'ellipse' #DLC model track method. Often 'ellipse'\n",
    "fps = 30 #DLC model fps\n"
   ]
  },
  {
   "cell_type": "markdown",
   "metadata": {},
   "source": [
    "Check these to see it found the videos you want to process"
   ]
  },
  {
   "cell_type": "code",
   "execution_count": 4,
   "metadata": {},
   "outputs": [],
   "source": [
    "videos = sorted(glob(os.path.join(base_video_path, video_pattern)))\n",
    "these_videos = [v for v in videos if v.split('/')[-1].split('-')[0] in cameras_to_process]\n",
    "dirs = list(set([os.path.dirname(v) for v in these_videos]))"
   ]
  },
  {
   "cell_type": "markdown",
   "metadata": {},
   "source": [
    "Process the files"
   ]
  },
  {
   "cell_type": "code",
   "execution_count": null,
   "metadata": {},
   "outputs": [],
   "source": [
    "#Do this by directory\n",
    "for video_path in tqdm(dirs):\n",
    "    output_video_path = os.path.join(video_path, 'interpolated')\n",
    "    os.makedirs(output_video_path, exist_ok = True)\n",
    "    tracking_files = sorted(glob(os.path.join(video_path, '*_filtered.csv')))\n",
    "    this_dir_videos = sorted(glob(os.path.join(video_path, '*cropped.mp4')))\n",
    "    this_dir_pickles = sorted(glob(os.path.join(video_path, '*.pickle')))\n",
    "    metadata = clone_metadata(tracking_files, fps = fps)\n",
    "\n",
    "    dataset = VideosetDataFrame(metadata)\n",
    "    interpolate_lowconf_points(dataset)\n",
    "    dataset.to_dlc_csv(output_video_path, save_h5_too = True)\n",
    "\n",
    "    #link videos to output_video_path\n",
    "    for pick in this_dir_pickles:\n",
    "        if not os.path.exists(os.path.join(output_video_path, os.path.basename(pick))):\n",
    "            os.symlink(pick, os.path.join(output_video_path, os.path.basename(pick)))\n",
    "\n",
    "    for video in this_dir_videos:\n",
    "        if not os.path.exists(os.path.join(output_video_path, os.path.basename(video))):\n",
    "            os.symlink(video, os.path.join(output_video_path, os.path.basename(video)))\n",
    "    sym_link_videos = sorted(glob(os.path.join(output_video_path, '*cropped.mp4')))\n",
    "\n",
    "    if create_video:\n",
    "        deeplabcut.create_labeled_video(path_config_file, sym_link_videos, videotype='.mp4', \n",
    "                                    filtered=True, shuffle = shuffle, trainingsetindex = 0, \n",
    "                                    track_method = track_method, fastmode = True,\n",
    "                                    color_by = 'individual', draw_skeleton = True)"
   ]
  }
 ],
 "metadata": {
  "kernelspec": {
   "display_name": "Python 3.8.6 ('DEEPLABCUT')",
   "language": "python",
   "name": "python3"
  },
  "language_info": {
   "codemirror_mode": {
    "name": "ipython",
    "version": 3
   },
   "file_extension": ".py",
   "mimetype": "text/x-python",
   "name": "python",
   "nbconvert_exporter": "python",
   "pygments_lexer": "ipython3",
   "version": "3.8.6"
  },
  "orig_nbformat": 4,
  "vscode": {
   "interpreter": {
    "hash": "c87c97cd47101481760159e33205eeaa3628845dbc4f7c163ec91ff4718b79bb"
   }
  }
 },
 "nbformat": 4,
 "nbformat_minor": 2
}
