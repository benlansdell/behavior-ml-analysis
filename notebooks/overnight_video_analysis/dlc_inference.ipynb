{
 "cells": [
  {
   "cell_type": "markdown",
   "metadata": {},
   "source": [
    "## Run inference on set of recordings\n",
    "\n",
    "Given a set of videos and a DLC trained model, run inference. "
   ]
  },
  {
   "cell_type": "code",
   "execution_count": 1,
   "metadata": {},
   "outputs": [
    {
     "name": "stderr",
     "output_type": "stream",
     "text": [
      "/home/blansdel/anaconda3/envs/DEEPLABCUT/lib/python3.8/site-packages/deeplabcut/__init__.py:78: UserWarning: \n",
      "        As PyTorch is not installed, unsupervised identity learning will not be available.\n",
      "        Please run `pip install torch`, or ignore this warning.\n",
      "        \n",
      "  warnings.warn(\n"
     ]
    }
   ],
   "source": [
    "import os\n",
    "import deeplabcut\n",
    "from glob import glob"
   ]
  },
  {
   "cell_type": "code",
   "execution_count": 3,
   "metadata": {},
   "outputs": [],
   "source": [
    "#Path to DLC model config file\n",
    "path_config_file = '/home/blansdel/projects/behavior/dlc_projects/overnight_videos/Overnight_Videos_813a_816b_combined_iter0/config.yaml'\n",
    "\n",
    "#video_path = '/home/blansdel/ImageAnalysisScratch/AnimalBehaviorCore/Zakharenko/animal-behavior-ml/inference/Overnight\\ Videos'\n",
    "video_path = '/home/blansdel/ImageAnalysisScratch/AnimalBehaviorCore/Zakharenko/animal-behavior-ml/inference/Overnight\\ Videos\\ LSD'\n",
    "\n",
    "video_pattern = '**/**/*cropped.mp4'\n",
    "cameras_to_process = ['e3v813a', 'e3v816b'] #Only process videos from these cameras\n",
    "\n",
    "create_video = True         # Whether or not to plot detections\n",
    "shuffle = 1                 # Which shuffle (model version) to use\n",
    "overwrite = False           # Whether to overwrite current \n",
    "track_method = 'ellipse'    # Which tracker to use (ellipse or box). Ellipse is the default, and generally performs better\n",
    "n_animals = 1               # Number of animals to track (can be different to what the model was trained on)"
   ]
  },
  {
   "cell_type": "markdown",
   "metadata": {},
   "source": [
    "Find the videos to analyze"
   ]
  },
  {
   "cell_type": "code",
   "execution_count": null,
   "metadata": {},
   "outputs": [],
   "source": [
    "videos = sorted(glob(os.path.join(video_path, video_pattern)))\n",
    "these_videos = [v for v in videos if v.split('/')[-1].split('-')[0] in cameras_to_process]"
   ]
  },
  {
   "cell_type": "markdown",
   "metadata": {},
   "source": [
    "Run the analysis"
   ]
  },
  {
   "cell_type": "code",
   "execution_count": null,
   "metadata": {},
   "outputs": [],
   "source": [
    "deeplabcut.analyze_videos(path_config_file, these_videos, videotype='.mp4', n_tracks = n_animals)\n",
    "deeplabcut.stitch_tracklets(path_config_file, these_videos, videotype='mp4', shuffle=shuffle, trainingsetindex=0)"
   ]
  },
  {
   "cell_type": "markdown",
   "metadata": {},
   "source": [
    "Filter predictions"
   ]
  },
  {
   "cell_type": "code",
   "execution_count": null,
   "metadata": {},
   "outputs": [],
   "source": [
    "#Filter by directory (this seems to be a DLC bug?, in that the other functions work for multiple video dirs)\n",
    "dirs = set([os.path.dirname(v) for v in these_videos])\n",
    "for d in dirs:\n",
    "    these_dir_vids = [v for v in these_videos if os.path.dirname(v) == d]\n",
    "    deeplabcut.filterpredictions(path_config_file, these_dir_vids, save_as_csv=True)"
   ]
  },
  {
   "cell_type": "markdown",
   "metadata": {},
   "source": [
    "Create video with detections and create labeled video of results, if desired"
   ]
  },
  {
   "cell_type": "code",
   "execution_count": null,
   "metadata": {},
   "outputs": [],
   "source": [
    "if create_video:\n",
    "    deeplabcut.create_video_with_all_detections(path_config_file, these_videos)\n",
    "    deeplabcut.create_labeled_video(path_config_file, these_videos, videotype='.mp4', shuffle=1, trainingsetindex=0, filtered=True)"
   ]
  }
 ],
 "metadata": {
  "kernelspec": {
   "display_name": "Python 3.8.6 ('DEEPLABCUT')",
   "language": "python",
   "name": "python3"
  },
  "language_info": {
   "codemirror_mode": {
    "name": "ipython",
    "version": 3
   },
   "file_extension": ".py",
   "mimetype": "text/x-python",
   "name": "python",
   "nbconvert_exporter": "python",
   "pygments_lexer": "ipython3",
   "version": "3.8.6"
  },
  "orig_nbformat": 4,
  "vscode": {
   "interpreter": {
    "hash": "c87c97cd47101481760159e33205eeaa3628845dbc4f7c163ec91ff4718b79bb"
   }
  }
 },
 "nbformat": 4,
 "nbformat_minor": 2
}
